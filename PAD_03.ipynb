{
  "nbformat": 4,
  "nbformat_minor": 0,
  "metadata": {
    "colab": {
      "provenance": []
    },
    "kernelspec": {
      "name": "python3",
      "display_name": "Python 3"
    },
    "language_info": {
      "name": "python"
    }
  },
  "cells": [
    {
      "cell_type": "markdown",
      "source": [
        "## Praca domowa (16 pkt)"
      ],
      "metadata": {
        "id": "7Zw0e5VcQhlb"
      }
    },
    {
      "cell_type": "markdown",
      "source": [
        "Wgraj dane z pliku DANE_PAD_O3.csv jako ramkę danych.\n",
        "\n",
        "Oblicz liczebność każdej wartości w kolumnie COUNTRY."
      ],
      "metadata": {
        "id": "2q2iNDY0Qnse"
      }
    },
    {
      "cell_type": "code",
      "source": [
        "import pandas as pd\n",
        "\n",
        "df = pd.read_csv('PAD_03_PD.csv',delimiter=';')\n",
        "print(df)\n",
        "\n",
        "df['Country'].value_counts()\n",
        "\n"
      ],
      "metadata": {
        "id": "Ljn2sReJQnb-"
      },
      "execution_count": null,
      "outputs": []
    },
    {
      "cell_type": "markdown",
      "source": [
        "W nowej kolumnie ‘owned_goods’ dodaj zmienną, która będzie informowała o liczbie posiadanych dóbr (zliczyć ile dana osoba posiada w sumie dóbr)."
      ],
      "metadata": {
        "id": "ryp9NHSNQz34"
      }
    },
    {
      "cell_type": "code",
      "source": [
        "import pandas as pd\n",
        "\n",
        "df = pd.read_csv('PAD_03_PD.csv',delimiter=';')\n",
        "df['owned_goods'] = df.apply(lambda row: row.owns_car + row.owns_TV + row.owns_house + row.owns_Phone, axis=1)\n",
        "df"
      ],
      "metadata": {
        "id": "2p5gvW74QlcH"
      },
      "execution_count": null,
      "outputs": []
    },
    {
      "cell_type": "markdown",
      "source": [
        "Porównaj średnią posiadanych dóbr między kobietami i mężczyznami. Wynik zaokrąglij do 2 miejsc po przecinku."
      ],
      "metadata": {
        "id": "GUsCYeEbRDXG"
      }
    },
    {
      "cell_type": "code",
      "source": [
        "import pandas as pd\n",
        "\n",
        "df = pd.read_csv('PAD_03_PD.csv',delimiter=';')\n",
        "df['owned_goods'] = df.apply(lambda row: row.owns_car + row.owns_TV + row.owns_house + row.owns_Phone, axis=1)\n",
        "\n",
        "print(df.groupby(['gender'])['owned_goods'].mean().round(decimals=2))\n"
      ],
      "metadata": {
        "id": "aT2-JxtsRFIO"
      },
      "execution_count": null,
      "outputs": []
    },
    {
      "cell_type": "markdown",
      "source": [
        "Stwórz ramkę danych, która zawierać będzie w pierwszej kolumnie wartość zmiennej COUNTRY, w drugiej kolumnie, średnią posiadanych dóbr w danym kraju (Wynik zaokrąglij do 2 miejsc po przecink), a w trzeciej kolumnie minimum wieku."
      ],
      "metadata": {
        "id": "1g0_uL2xRFr9"
      }
    },
    {
      "cell_type": "code",
      "source": [
        "import pandas as pd\n",
        "\n",
        "df = pd.read_csv('PAD_03_PD.csv',delimiter=';')\n",
        "df['owned_goods'] = df.apply(lambda row: row.owns_car + row.owns_TV + row.owns_house + row.owns_Phone, axis=1)\n",
        "\n",
        "country = pd.DataFrame(df.groupby('Country')['owned_goods','Age'].aggregate('mean','min')).round(2)\n",
        "country"
      ],
      "metadata": {
        "id": "bBxTCYXlRH1y"
      },
      "execution_count": null,
      "outputs": []
    }
  ]
}